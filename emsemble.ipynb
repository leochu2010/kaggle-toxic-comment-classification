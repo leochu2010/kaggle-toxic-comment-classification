{
 "cells": [
  {
   "cell_type": "code",
   "execution_count": 1,
   "metadata": {},
   "outputs": [],
   "source": [
    "import numpy as np, pandas as pd"
   ]
  },
  {
   "cell_type": "code",
   "execution_count": 9,
   "metadata": {},
   "outputs": [],
   "source": [
    "f_lstm = 'submission/nb_svm_0052.csv'\n",
    "f_nbsvm = 'submission/lstm_fasttext_pretrain_0045.csv'\n",
    "f_eaf = 'submission/feat_lr_2cols_0044.csv'\n",
    "df1 = pd.read_csv(f_lstm)\n",
    "df2 = pd.read_csv(f_nbsvm)\n",
    "df3 = pd.read_csv(f_eaf)"
   ]
  },
  {
   "cell_type": "code",
   "execution_count": 11,
   "metadata": {},
   "outputs": [],
   "source": [
    "label_cols = ['toxic', 'severe_toxic', 'obscene', 'threat', 'insult', 'identity_hate']\n",
    "emsemble_df = df1.copy()\n",
    "#emsemble_df[label_cols] = (df1[label_cols] + df2[label_cols]) / 2\n",
    "emsemble_df[label_cols] = (2*df2[label_cols] + 3*df1[label_cols] + 4*df3[label_cols]) / 9\n",
    "emsemble_df.to_csv('emsemble_submission.csv', index=False)"
   ]
  }
 ],
 "metadata": {
  "kernelspec": {
   "display_name": "Python 3",
   "language": "python",
   "name": "python3"
  },
  "language_info": {
   "codemirror_mode": {
    "name": "ipython",
    "version": 3
   },
   "file_extension": ".py",
   "mimetype": "text/x-python",
   "name": "python",
   "nbconvert_exporter": "python",
   "pygments_lexer": "ipython3",
   "version": "3.5.2"
  }
 },
 "nbformat": 4,
 "nbformat_minor": 2
}
